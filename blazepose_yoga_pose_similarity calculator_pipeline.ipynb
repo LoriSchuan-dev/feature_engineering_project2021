{
 "cells": [
  {
   "cell_type": "code",
   "execution_count": 1,
   "id": "d4428d47",
   "metadata": {},
   "outputs": [],
   "source": [
    "# This notebook will \n",
    "# read in all of the target frames, \n",
    "# calculate keypoints and normalize them.\n",
    "# read in all user frames\n",
    "# calculate keypoints,\n",
    "# calculate keypoints and normalize them\n",
    "# calculate euclidean distance between them"
   ]
  },
  {
   "cell_type": "code",
   "execution_count": 2,
   "id": "25d8847e",
   "metadata": {},
   "outputs": [],
   "source": [
    "teacher_frames_fnames = [\"pose_1_frame.png\", \"pose_2_frame.png\", \"pose_3_frame.png\",\n",
    "                         \"pose_4_frame.png\", \"pose_5_frame.png\", \"pose_6_frame.png\"]"
   ]
  },
  {
   "cell_type": "code",
   "execution_count": 7,
   "id": "079550b4",
   "metadata": {},
   "outputs": [
    {
     "data": {
      "text/plain": [
       "['pose_1_frame_lori.png',\n",
       " 'pose_2_frame_lori.png',\n",
       " 'pose_3_frame_lori.png',\n",
       " 'pose_4_frame_lori.png',\n",
       " 'pose_5_frame_lori.png',\n",
       " 'pose_6_frame_lori.png']"
      ]
     },
     "execution_count": 7,
     "metadata": {},
     "output_type": "execute_result"
    }
   ],
   "source": [
    "def get_input_filenames(name, base):\n",
    "lori_frames_fnames = []\n",
    "\n",
    "for fname in teacher_frames_fnames:\n",
    "    splitname = fname.split(\".\")\n",
    "    splitname[0] += \"_lori\"\n",
    "    new_name = \".\".join(splitname)\n",
    "    lori_frames_fnames.append(new_name)\n",
    "lori_frames_fnames"
   ]
  },
  {
   "cell_type": "code",
   "execution_count": null,
   "id": "c99d35cd",
   "metadata": {},
   "outputs": [],
   "source": []
  }
 ],
 "metadata": {
  "kernelspec": {
   "display_name": "Python 3 (ipykernel)",
   "language": "python",
   "name": "python3"
  },
  "language_info": {
   "codemirror_mode": {
    "name": "ipython",
    "version": 3
   },
   "file_extension": ".py",
   "mimetype": "text/x-python",
   "name": "python",
   "nbconvert_exporter": "python",
   "pygments_lexer": "ipython3",
   "version": "3.9.7"
  }
 },
 "nbformat": 4,
 "nbformat_minor": 5
}
