{
  "nbformat": 4,
  "nbformat_minor": 0,
  "metadata": {
    "colab": {
      "name": "mediapipe_yoga_detection_test",
      "private_outputs": true,
      "provenance": [],
      "include_colab_link": true
    },
    "kernelspec": {
      "name": "python3",
      "display_name": "Python 3"
    },
    "language_info": {
      "name": "python"
    }
  },
  "cells": [
    {
      "cell_type": "markdown",
      "metadata": {
        "id": "view-in-github",
        "colab_type": "text"
      },
      "source": [
        "<a href=\"https://colab.research.google.com/github/LoriSchuan-dev/feature_engineering_project2021/blob/main/mediapipe_yoga_detection_test.ipynb\" target=\"_parent\"><img src=\"https://colab.research.google.com/assets/colab-badge.svg\" alt=\"Open In Colab\"/></a>"
      ]
    },
    {
      "cell_type": "code",
      "metadata": {
        "id": "u4DO3fQkeeI-"
      },
      "source": [
        "!pip install mediapipe"
      ],
      "execution_count": null,
      "outputs": []
    },
    {
      "cell_type": "code",
      "metadata": {
        "id": "l9wDWG__h8UW"
      },
      "source": [
        "import mediapipe as mp\n",
        "from urllib import request\n",
        "import os"
      ],
      "execution_count": null,
      "outputs": []
    },
    {
      "cell_type": "code",
      "metadata": {
        "id": "NP6jKSKwiGCG"
      },
      "source": [
        "#Test Images\n",
        "url_list = [#'https://i0.wp.com/cdn-prod.medicalnewstoday.com/content/images/articles/327/327086/a-woman-doing-the-bow-yoga-pose.jpg',\n",
        "            #'https://i0.wp.com/www.yogabasics.com/yogabasics2017/wp-content/uploads/2013/11/bow-pose-024.jpg',\n",
        "            #'https://cdn.prod.openfit.com/uploads/2019/05/13173628/bow-pose-dhanurasana-brent-laffoon-yoga521.jpg',\n",
        "            # 'https://cdn-prod.medicalnewstoday.com/content/images/articles/327/327086/supine-spinal-twist-yoga-pose.jpg',\n",
        "            #'https://www.artofliving.org/sites/www.artofliving.org/files/styles/original_image/public/wysiwyg_imageupload/1-Ten%20Challenging%20Yoga%20Asanas.jpg.webp?itok=OJgnpb3T',\n",
        "            #'https://www.artofliving.org/sites/www.artofliving.org/files/styles/original_image/public/wysiwyg_imageupload/2-Ten%20Challenging%20Yoga%20Asanas.jpg.webp?itok=z8l14C8v',\n",
        "            #'https://www.healthshots.com/wp-content/uploads/2020/09/Malasana-lead.jpg'\n",
        "            'https://www.yogajournal.com/wp-content/uploads/2020/12/ccd03542-1.jpg'\n",
        "            ]\n",
        "            \n",
        "for idx in range(len(url_list)):\n",
        "  os.system(\"curl \" + url_list[idx] + \" > test_\"+str(idx+1)+\".jpg\")\n",
        "\n",
        "image_list = ['test_'+str(i+1)+'.jpg' for i in range(len(url_list))]"
      ],
      "execution_count": null,
      "outputs": []
    },
    {
      "cell_type": "code",
      "metadata": {
        "id": "8_csQ7UArjhl"
      },
      "source": [
        "import cv2\n",
        "from google.colab.patches import cv2_imshow\n",
        "import math\n",
        "import numpy as np\n",
        "\n",
        "DESIRED_HEIGHT = 480\n",
        "DESIRED_WIDTH = 480\n",
        "def resize_and_show(image):\n",
        "  h, w = image.shape[:2]\n",
        "  if h < w:\n",
        "    img = cv2.resize(image, (DESIRED_WIDTH, math.floor(h/(w/DESIRED_WIDTH))))\n",
        "  else:\n",
        "    img = cv2.resize(image, (math.floor(w/(h/DESIRED_HEIGHT)), DESIRED_HEIGHT))\n",
        "  cv2_imshow(img)\n",
        "\n",
        "# Read images with OpenCV.\n",
        "images = {name: cv2.imread(name) for name in image_list}\n",
        "# Preview the images.\n",
        "for name, image in images.items():\n",
        "  print(name)   \n",
        "  resize_and_show(image)"
      ],
      "execution_count": null,
      "outputs": []
    },
    {
      "cell_type": "code",
      "metadata": {
        "id": "qHdzTc9jp3rD"
      },
      "source": [
        "mp_pose = mp.solutions.pose\n",
        "mp_drawing = mp.solutions.drawing_utils \n",
        "mp_drawing_styles = mp.solutions.drawing_styles\n",
        "\n",
        "# help(mp_pose.Pose)"
      ],
      "execution_count": null,
      "outputs": []
    },
    {
      "cell_type": "code",
      "metadata": {
        "id": "aC0RT0-Kp9DL"
      },
      "source": [
        "# Run MediaPipe Pose and draw pose landmarks.\n",
        "with mp_pose.Pose(\n",
        "    static_image_mode=True, min_detection_confidence=0.2, model_complexity=2) as pose: \n",
        "    #You can change parameters mdc =>(0~1) model_complexity => 0,1,2\n",
        "    #default mdc = 0.5 mc = 2\n",
        "  for name, image in images.items():\n",
        "    # Convert the BGR image to RGB and process it with MediaPipe Pose.\n",
        "    results = pose.process(cv2.cvtColor(image, cv2.COLOR_BGR2RGB))\n",
        "    \n",
        "    # Print nose landmark.\n",
        "    image_hight, image_width, _ = image.shape\n",
        "    if not results.pose_landmarks:\n",
        "      continue\n",
        "    print(\n",
        "      f'Nose coordinates: ('\n",
        "      f'{results.pose_landmarks.landmark[mp_pose.PoseLandmark.NOSE].x * image_width}, '\n",
        "      f'{results.pose_landmarks.landmark[mp_pose.PoseLandmark.NOSE].y * image_hight})'\n",
        "    )\n",
        "\n",
        "    # Draw pose landmarks.\n",
        "    print(f'Pose landmarks of {name}:')\n",
        "    annotated_image = image.copy()\n",
        "    mp_drawing.draw_landmarks(\n",
        "        annotated_image,\n",
        "        results.pose_landmarks,\n",
        "        mp_pose.POSE_CONNECTIONS,\n",
        "        landmark_drawing_spec=mp_drawing_styles.get_default_pose_landmarks_style())\n",
        "    resize_and_show(annotated_image)"
      ],
      "execution_count": null,
      "outputs": []
    },
    {
      "cell_type": "code",
      "metadata": {
        "id": "SawZsHqjsEL7"
      },
      "source": [
        "# Run MediaPipe Pose and plot 3d pose world landmarks.\n",
        "with mp_pose.Pose(\n",
        "    static_image_mode=True, min_detection_confidence=0.5, model_complexity=2) as pose:\n",
        "  for name, image in images.items():\n",
        "    results = pose.process(cv2.cvtColor(image, cv2.COLOR_BGR2RGB))\n",
        "\n",
        "    # Print the real-world 3D coordinates of nose in meters with the origin at\n",
        "    # the center between hips.\n",
        "    print('Nose world landmark:'),\n",
        "    print(results.pose_world_landmarks.landmark[mp_pose.PoseLandmark.NOSE])\n",
        "    \n",
        "    # Plot pose world landmarks.\n",
        "    fig, ax = mp_drawing.plot_landmarks(\n",
        "        results.pose_world_landmarks, mp_pose.POSE_CONNECTIONS)\n",
        "    print(mp_pose.POSE_CONNECTIONS)\n",
        "    print(results.pose_world_landmarks.landmark[0])"
      ],
      "execution_count": null,
      "outputs": []
    },
    {
      "cell_type": "code",
      "metadata": {
        "id": "i3q082v1cbIP"
      },
      "source": [
        "from matplotlib import animation\n",
        "from IPython.display import HTML\n",
        "from mpl_toolkits.mplot3d import axes3d\n",
        "\n",
        "def animate(i):\n",
        "    ax.view_init(elev=0., azim=3.6*i)\n",
        "    return fig,\n",
        "\n",
        "# Animate\n",
        "ani = animation.FuncAnimation(fig, animate,\n",
        "                               frames=100, interval=100, blit=True)    \n",
        "\n",
        "HTML(ani.to_html5_video())"
      ],
      "execution_count": null,
      "outputs": []
    },
    {
      "cell_type": "code",
      "metadata": {
        "id": "vs35CnpmgHIn"
      },
      "source": [
        ""
      ],
      "execution_count": null,
      "outputs": []
    }
  ]
}