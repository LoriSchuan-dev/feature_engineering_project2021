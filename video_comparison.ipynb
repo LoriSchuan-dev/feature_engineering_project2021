{
 "cells": [
  {
   "cell_type": "code",
   "execution_count": 1,
   "id": "9f530d71",
   "metadata": {},
   "outputs": [],
   "source": [
    "# This notebook will \n",
    "# take in two videos, \n",
    "# get the landmarks/keypoints for each frame,\n",
    "# calculate the difference between each corresponding pair\n",
    "# calculate the mean square error for all of them\n",
    "\n",
    "# This notebook will also display two videos side by side with a graph of the keypoint error differences."
   ]
  },
  {
   "cell_type": "code",
   "execution_count": 2,
   "id": "d6a7c3e6",
   "metadata": {},
   "outputs": [],
   "source": [
    "def display_two_videos(video_one, video_two):\n",
    "    \"\"\"Displays a video player for two videos to play side by side\"\"\"\n",
    "    pass"
   ]
  },
  {
   "cell_type": "code",
   "execution_count": 6,
   "id": "31ac407d",
   "metadata": {},
   "outputs": [],
   "source": [
    "def get_num_frames_of_all_videos(input_dir):\n",
    "    \"\"\"Returns a dataframe of each pose video's number of frames.\n",
    "    e.x. ['instructor', 'jong', 'lori', 'mikaela']\"\"\"\n",
    "    pass"
   ]
  },
  {
   "cell_type": "code",
   "execution_count": 7,
   "id": "c0a46ff5",
   "metadata": {},
   "outputs": [],
   "source": [
    "def crop_videos_to_same_length(input_dir, output_dir):\n",
    "    \"\"\"Crops all of the videos in a directory and copies them to a new directory\"\"\""
   ]
  },
  {
   "cell_type": "code",
   "execution_count": 10,
   "id": "f7c6f264",
   "metadata": {},
   "outputs": [],
   "source": [
    "def get_landmarks_video(input_video):\n",
    "    \"\"\"returns a dictionary of {frame_num: [x, y, z...]} 33 coordinates of an input video\"\"\"\n",
    "    "
   ]
  },
  {
   "cell_type": "code",
   "execution_count": 9,
   "id": "e1e35cf7",
   "metadata": {},
   "outputs": [],
   "source": [
    "def graph_rmse(video_keypoints_1, video_keypoints_2):\n",
    "    \"\"\"takes in two dictionaries with the {frame_num: [x, y, z...]}\n",
    "    and graphs the rmse at each frame\"\"\""
   ]
  },
  {
   "cell_type": "code",
   "execution_count": null,
   "id": "6620cbea",
   "metadata": {},
   "outputs": [],
   "source": []
  }
 ],
 "metadata": {
  "kernelspec": {
   "display_name": "Python 3 (ipykernel)",
   "language": "python",
   "name": "python3"
  },
  "language_info": {
   "codemirror_mode": {
    "name": "ipython",
    "version": 3
   },
   "file_extension": ".py",
   "mimetype": "text/x-python",
   "name": "python",
   "nbconvert_exporter": "python",
   "pygments_lexer": "ipython3",
   "version": "3.9.7"
  }
 },
 "nbformat": 4,
 "nbformat_minor": 5
}
